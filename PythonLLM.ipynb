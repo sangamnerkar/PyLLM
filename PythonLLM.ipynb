{
  "nbformat": 4,
  "nbformat_minor": 0,
  "metadata": {
    "colab": {
      "provenance": [],
      "authorship_tag": "ABX9TyOGsJoyjnKxrpc/MLOR5V4q",
      "include_colab_link": true
    },
    "kernelspec": {
      "name": "python3",
      "display_name": "Python 3"
    },
    "language_info": {
      "name": "python"
    }
  },
  "cells": [
    {
      "cell_type": "markdown",
      "metadata": {
        "id": "view-in-github",
        "colab_type": "text"
      },
      "source": [
        "<a href=\"https://colab.research.google.com/github/sangamnerkar/PyLLM/blob/main/PythonLLM.ipynb\" target=\"_parent\"><img src=\"https://colab.research.google.com/assets/colab-badge.svg\" alt=\"Open In Colab\"/></a>"
      ]
    },
    {
      "cell_type": "code",
      "execution_count": null,
      "metadata": {
        "id": "7C63SV9Y2uUE"
      },
      "outputs": [],
      "source": []
    },
    {
      "cell_type": "markdown",
      "source": [
        "This is the coding class for Course 2 - LLM"
      ],
      "metadata": {
        "id": "3xEfa47Z8G1t"
      }
    },
    {
      "cell_type": "code",
      "source": [
        "num_list = [1,2,3,4,5]\n",
        "transform_x = lambda x : x**3 if(x%2 == 0) else x**2\n",
        "\n",
        "for i in num_list:\n",
        "  print(transform_x(i))\n",
        "  # print((lambda x : x**3 if(x%2 == 0) else x**2)(i))"
      ],
      "metadata": {
        "colab": {
          "base_uri": "https://localhost:8080/"
        },
        "id": "g21nzh-lB0l_",
        "outputId": "77dd1807-fb7a-46aa-ea60-e191821ec4e0"
      },
      "execution_count": 1,
      "outputs": [
        {
          "output_type": "stream",
          "name": "stdout",
          "text": [
            "1\n",
            "8\n",
            "9\n",
            "64\n",
            "25\n"
          ]
        }
      ]
    },
    {
      "cell_type": "code",
      "source": [],
      "metadata": {
        "id": "jXOQilGCCAUk"
      },
      "execution_count": null,
      "outputs": []
    }
  ]
}